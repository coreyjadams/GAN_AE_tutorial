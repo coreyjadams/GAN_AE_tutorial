{
 "cells": [
  {
   "cell_type": "markdown",
   "metadata": {},
   "source": [
    "## Comparing Auto Encoders\n",
    "\n",
    "In the previous tutorials, we trained two autoencoders to compress hand written digits into a single, 10-long floating point number per digit.  The first network was a standard fully connected neural network, and the second was a much smaller convolutional neural network - about 10x smaller in trainable parameters.\n",
    "\n",
    "Which was better?  It's hard to answer that question just from looking at a few output images, and certainly examining the intermediate representation by eye is not super useful.  In this notebook we'll try two techniques to measure just \"how good\" the autoencoder/decoder pairs are doing:\n",
    "\n",
    "1) Comparision of Mean Squared Error on validation set\n",
    "\n",
    "2) Comparision of performance of classification network on decoded images\n",
    "\n"
   ]
  },
  {
   "cell_type": "code",
   "execution_count": 1,
   "metadata": {},
   "outputs": [],
   "source": [
    "# This is the same from noteboook 2:\n",
    "# Load the data generator and tensorflow:\n",
    "\n",
    "import tensorflow as tf\n",
    "import numpy\n",
    "tf.enable_eager_execution()\n",
    "from src.utils import data_generator\n",
    "\n",
    "from src.models import convolutional_AE\n",
    "from src.models import neural_net_AE\n",
    "\n",
    "\n"
   ]
  },
  {
   "cell_type": "code",
   "execution_count": 2,
   "metadata": {},
   "outputs": [],
   "source": [
    "data_gen = data_generator.mnist_generator()\n",
    "\n",
    "fc_encoder   = neural_net_AE.Encoder()\n",
    "conv_encoder = convolutional_AE.Encoder()\n",
    "\n",
    "fc_decoder   = neural_net_AE.Decoder(1)\n",
    "conv_decoder = convolutional_AE.Decoder()\n",
    "\n"
   ]
  },
  {
   "cell_type": "markdown",
   "metadata": {},
   "source": [
    "Like in the other notebooks, the models are not really initialized until you go through them once with input data.  So we will run through once for each model to make sure they are initialized, then we can load them:"
   ]
  },
  {
   "cell_type": "code",
   "execution_count": 3,
   "metadata": {},
   "outputs": [
    {
     "name": "stdout",
     "output_type": "stream",
     "text": [
      "WARNING:tensorflow:From /Users/corey.adams/Library/Python/3.6/lib/python/site-packages/tensorflow/python/ops/resource_variable_ops.py:642: colocate_with (from tensorflow.python.framework.ops) is deprecated and will be removed in a future version.\n",
      "Instructions for updating:\n",
      "Colocations handled automatically by placer.\n"
     ]
    }
   ],
   "source": [
    "# Restore the trained models for each of the networks:\n",
    "BATCH_SIZE=1\n",
    "NUM_DIGITS=1\n",
    "\n",
    "data_gen = data_generator.mnist_generator()\n",
    "\n",
    "# Load some data:\n",
    "batch_images, batch_labels = data_gen.next_train_batch(BATCH_SIZE, NUM_DIGITS)\n",
    "# Reshape the data:\n",
    "fc_batch_images = batch_images.reshape([BATCH_SIZE, 28*28*NUM_DIGITS])\n",
    "\n",
    "fc_intermediate_state = fc_encoder(fc_batch_images)\n",
    "fc_decoded_images = fc_decoder(fc_intermediate_state)\n",
    "\n",
    "conv_batch_images = batch_images.reshape([BATCH_SIZE, 28, 28*NUM_DIGITS, 1])\n",
    "\n",
    "\n",
    "conv_intermediate_state = conv_encoder(conv_batch_images)\n",
    "conv_decoded_images = conv_decoder(conv_intermediate_state)\n",
    "\n",
    "\n",
    "\n",
    "fc_encoder.load_weights(\"saved_models/user/nn_encoder.h5\")\n",
    "fc_decoder.load_weights(\"saved_models/user/nn_decoder.h5\")\n",
    "conv_encoder.load_weights(\"saved_models/user/conv_encoder.h5\")\n",
    "conv_decoder.load_weights(\"saved_models/user/conv_decoder.h5\")"
   ]
  },
  {
   "cell_type": "code",
   "execution_count": 12,
   "metadata": {},
   "outputs": [],
   "source": [
    "# We will skip the data generator since this is single image autoencoding.\n",
    "(x_train, y_train), (x_test, y_test) = tf.keras.datasets.mnist.load_data()\n",
    "\n",
    "x_train = x_train.astype(numpy.float32) * (1./256)\n",
    "x_test  = x_test.astype(numpy.float32) * (1./256)\n",
    "\n",
    "\n",
    "\n",
    "\n",
    "fc_x_test = x_test.reshape(10000, 28*28).astype(numpy.float32)\n",
    "conv_x_test = x_test.reshape(10000, 28, 28, 1).astype(numpy.float32)"
   ]
  },
  {
   "cell_type": "code",
   "execution_count": null,
   "metadata": {},
   "outputs": [],
   "source": []
  },
  {
   "cell_type": "code",
   "execution_count": 5,
   "metadata": {},
   "outputs": [],
   "source": [
    "# fc_intermediate_state = fc_encoder(fc_x_test)\n",
    "# fc_decoded = fc_decoder(fc_intermediate_state)\n",
    "\n",
    "# conv_intermediate_state = conv_encoder(conv_x_test)\n",
    "# conv_decoded = conv_decoder(conv_intermediate_state)"
   ]
  },
  {
   "cell_type": "code",
   "execution_count": 6,
   "metadata": {},
   "outputs": [],
   "source": [
    "# fc_loss = tf.losses.mean_squared_error(fc_x_test, fc_decoded)\n",
    "# conv_loss = tf.losses.mean_squared_error(conv_x_test, conv_decoded)"
   ]
  },
  {
   "cell_type": "code",
   "execution_count": 7,
   "metadata": {},
   "outputs": [],
   "source": [
    "# print(\"Fully connected test loss: \", fc_loss.numpy())\n",
    "# print(\"Convolutional test loss: \", conv_loss.numpy())"
   ]
  },
  {
   "cell_type": "markdown",
   "metadata": {},
   "source": [
    "Based on this, the convolutional auto encoder is marginally better than the fully connected:  it has a slightly lower loss on the test set."
   ]
  },
  {
   "cell_type": "markdown",
   "metadata": {},
   "source": [
    "### Classifying decoded data\n",
    "\n",
    "Let's look at another comparison.  We'll quickly spin up a classifier for mnist digits and then see how well the decoded data is doing at recreating it's original state by classifying the output of the decoder.\n",
    "\n",
    "There is an mnist model ready to run in the models folder, so let's load and use that:"
   ]
  },
  {
   "cell_type": "code",
   "execution_count": 8,
   "metadata": {},
   "outputs": [],
   "source": [
    "from src.models import mnist_classifier\n",
    "\n",
    "model = mnist_classifier.mnist_classifier(n_output=10)\n"
   ]
  },
  {
   "cell_type": "code",
   "execution_count": 9,
   "metadata": {},
   "outputs": [
    {
     "name": "stdout",
     "output_type": "stream",
     "text": [
      "WARNING:tensorflow:From /Users/corey.adams/Library/Python/3.6/lib/python/site-packages/tensorflow/python/ops/losses/losses_impl.py:209: to_float (from tensorflow.python.ops.math_ops) is deprecated and will be removed in a future version.\n",
      "Instructions for updating:\n",
      "Use tf.cast instead.\n",
      "Step 0, loss 2.2997548580169678\n",
      "Step 5, loss 2.296759605407715\n",
      "Step 10, loss 2.2710235118865967\n",
      "Step 15, loss 2.232308864593506\n",
      "Step 20, loss 2.1523523330688477\n",
      "Step 25, loss 2.0130584239959717\n",
      "Step 30, loss 1.8452427387237549\n",
      "Step 35, loss 1.7201957702636719\n",
      "Step 40, loss 1.6208401918411255\n",
      "Step 45, loss 1.4153833389282227\n",
      "Step 50, loss 1.35357666015625\n",
      "Step 55, loss 1.2767329216003418\n",
      "Step 60, loss 1.248514175415039\n",
      "Step 65, loss 1.3024460077285767\n",
      "Step 70, loss 1.097875714302063\n",
      "Step 75, loss 1.2077852487564087\n",
      "Step 80, loss 0.9108601212501526\n",
      "Step 85, loss 0.9167524576187134\n",
      "Step 90, loss 0.8349763751029968\n",
      "Step 95, loss 0.7305589914321899\n",
      "Step 100, loss 0.8389173746109009\n",
      "Step 105, loss 0.6129991412162781\n",
      "Step 110, loss 0.6845299601554871\n",
      "Step 115, loss 0.5636875629425049\n",
      "Step 120, loss 0.6101558208465576\n",
      "Step 125, loss 0.7226582169532776\n",
      "Step 130, loss 0.6179704070091248\n",
      "Step 135, loss 0.5322189927101135\n",
      "Step 140, loss 0.4915325939655304\n",
      "Step 145, loss 0.6214783787727356\n",
      "Step 150, loss 0.4545702338218689\n",
      "Step 155, loss 0.600057065486908\n",
      "Step 160, loss 0.4931676387786865\n",
      "Step 165, loss 0.33541011810302734\n",
      "Step 170, loss 0.35309162735939026\n",
      "Step 175, loss 0.41348031163215637\n",
      "Step 180, loss 0.37114742398262024\n",
      "Step 185, loss 0.38948920369148254\n",
      "Step 190, loss 0.39777880907058716\n",
      "Step 195, loss 0.4021601974964142\n",
      "Step 200, loss 0.5644034743309021\n",
      "Step 205, loss 0.4525819420814514\n",
      "Step 210, loss 0.454402357339859\n",
      "Step 215, loss 0.39455917477607727\n",
      "Step 220, loss 0.41166937351226807\n",
      "Step 225, loss 0.24018621444702148\n",
      "Step 230, loss 0.3531341850757599\n",
      "Step 235, loss 0.38691607117652893\n",
      "Step 240, loss 0.37129536271095276\n",
      "Step 245, loss 0.32740098237991333\n",
      "Step 250, loss 0.3015855550765991\n",
      "Step 255, loss 0.25360313057899475\n",
      "Step 260, loss 0.26204732060432434\n",
      "Step 265, loss 0.34583571553230286\n",
      "Step 270, loss 0.28034400939941406\n",
      "Step 275, loss 0.23417998850345612\n",
      "Step 280, loss 0.1893412172794342\n",
      "Step 285, loss 0.2333601415157318\n",
      "Step 290, loss 0.24896177649497986\n",
      "Step 295, loss 0.3079068064689636\n",
      "Step 300, loss 0.2741811275482178\n",
      "Step 305, loss 0.25717875361442566\n",
      "Step 310, loss 0.204746812582016\n",
      "Step 315, loss 0.35595378279685974\n",
      "Step 320, loss 0.16527843475341797\n",
      "Step 325, loss 0.277990460395813\n",
      "Step 330, loss 0.30606698989868164\n",
      "Step 335, loss 0.2972584068775177\n",
      "Step 340, loss 0.34491974115371704\n",
      "Step 345, loss 0.20229430496692657\n",
      "Step 350, loss 0.23647081851959229\n",
      "Step 355, loss 0.3172937333583832\n",
      "Step 360, loss 0.2367468774318695\n",
      "Step 365, loss 0.3360122740268707\n",
      "Step 370, loss 0.31097811460494995\n",
      "Step 375, loss 0.2668277323246002\n",
      "Step 380, loss 0.19828882813453674\n",
      "Step 385, loss 0.18483200669288635\n",
      "Step 390, loss 0.2694426476955414\n",
      "Step 395, loss 0.21737991273403168\n",
      "Step 400, loss 0.1712465137243271\n",
      "Step 405, loss 0.32689544558525085\n",
      "Step 410, loss 0.23423542082309723\n",
      "Step 415, loss 0.1857190877199173\n",
      "Step 420, loss 0.11416758596897125\n",
      "Step 425, loss 0.15610584616661072\n",
      "Step 430, loss 0.1956573873758316\n",
      "Step 435, loss 0.26173970103263855\n",
      "Step 440, loss 0.25874701142311096\n",
      "Step 445, loss 0.23927901685237885\n",
      "Step 450, loss 0.20007918775081635\n",
      "Step 455, loss 0.32182398438453674\n",
      "Step 460, loss 0.22360393404960632\n",
      "Step 465, loss 0.2180403172969818\n",
      "Step 470, loss 0.2571335732936859\n",
      "Step 475, loss 0.2190093994140625\n",
      "Step 480, loss 0.20129619538784027\n",
      "Step 485, loss 0.2495110183954239\n",
      "Step 490, loss 0.22972896695137024\n",
      "Step 495, loss 0.1761436015367508\n",
      "Step 500, loss 0.1999794840812683\n",
      "Step 505, loss 0.22105048596858978\n",
      "Step 510, loss 0.3094642758369446\n",
      "Step 515, loss 0.14268356561660767\n",
      "Step 520, loss 0.2705641984939575\n",
      "Step 525, loss 0.21182972192764282\n",
      "Step 530, loss 0.19593234360218048\n",
      "Step 535, loss 0.21284110844135284\n",
      "Step 540, loss 0.14080727100372314\n",
      "Step 545, loss 0.20949988067150116\n",
      "Step 550, loss 0.18130046129226685\n",
      "Step 555, loss 0.239540696144104\n",
      "Step 560, loss 0.20103515684604645\n"
     ]
    },
    {
     "ename": "KeyboardInterrupt",
     "evalue": "",
     "output_type": "error",
     "traceback": [
      "\u001b[0;31m---------------------------------------------------------------------------\u001b[0m",
      "\u001b[0;31mKeyboardInterrupt\u001b[0m                         Traceback (most recent call last)",
      "\u001b[0;32m<ipython-input-9-8feae57ace24>\u001b[0m in \u001b[0;36m<module>\u001b[0;34m\u001b[0m\n\u001b[1;32m     28\u001b[0m \u001b[0;34m\u001b[0m\u001b[0m\n\u001b[1;32m     29\u001b[0m     \u001b[0;31m# Apply the update to the model:\u001b[0m\u001b[0;34m\u001b[0m\u001b[0;34m\u001b[0m\u001b[0;34m\u001b[0m\u001b[0m\n\u001b[0;32m---> 30\u001b[0;31m     \u001b[0mgrads\u001b[0m \u001b[0;34m=\u001b[0m \u001b[0mtape\u001b[0m\u001b[0;34m.\u001b[0m\u001b[0mgradient\u001b[0m\u001b[0;34m(\u001b[0m\u001b[0mloss_value\u001b[0m\u001b[0;34m,\u001b[0m \u001b[0mtrainable_vars\u001b[0m\u001b[0;34m)\u001b[0m\u001b[0;34m\u001b[0m\u001b[0;34m\u001b[0m\u001b[0m\n\u001b[0m\u001b[1;32m     31\u001b[0m     optimizer.apply_gradients(zip(grads, trainable_vars),\n\u001b[1;32m     32\u001b[0m                              global_step=tf.train.get_or_create_global_step())\n",
      "\u001b[0;32m~/Library/Python/3.6/lib/python/site-packages/tensorflow/python/eager/backprop.py\u001b[0m in \u001b[0;36mgradient\u001b[0;34m(self, target, sources, output_gradients, unconnected_gradients)\u001b[0m\n\u001b[1;32m    944\u001b[0m         \u001b[0mflat_sources\u001b[0m\u001b[0;34m,\u001b[0m\u001b[0;34m\u001b[0m\u001b[0;34m\u001b[0m\u001b[0m\n\u001b[1;32m    945\u001b[0m         \u001b[0moutput_gradients\u001b[0m\u001b[0;34m=\u001b[0m\u001b[0moutput_gradients\u001b[0m\u001b[0;34m,\u001b[0m\u001b[0;34m\u001b[0m\u001b[0;34m\u001b[0m\u001b[0m\n\u001b[0;32m--> 946\u001b[0;31m         unconnected_gradients=unconnected_gradients)\n\u001b[0m\u001b[1;32m    947\u001b[0m \u001b[0;34m\u001b[0m\u001b[0m\n\u001b[1;32m    948\u001b[0m     \u001b[0;32mif\u001b[0m \u001b[0;32mnot\u001b[0m \u001b[0mself\u001b[0m\u001b[0;34m.\u001b[0m\u001b[0m_persistent\u001b[0m\u001b[0;34m:\u001b[0m\u001b[0;34m\u001b[0m\u001b[0;34m\u001b[0m\u001b[0m\n",
      "\u001b[0;32m~/Library/Python/3.6/lib/python/site-packages/tensorflow/python/eager/imperative_grad.py\u001b[0m in \u001b[0;36mimperative_grad\u001b[0;34m(tape, target, sources, output_gradients, unconnected_gradients)\u001b[0m\n\u001b[1;32m     70\u001b[0m       \u001b[0msources\u001b[0m\u001b[0;34m,\u001b[0m\u001b[0;34m\u001b[0m\u001b[0;34m\u001b[0m\u001b[0m\n\u001b[1;32m     71\u001b[0m       \u001b[0moutput_gradients\u001b[0m\u001b[0;34m,\u001b[0m\u001b[0;34m\u001b[0m\u001b[0;34m\u001b[0m\u001b[0m\n\u001b[0;32m---> 72\u001b[0;31m       compat.as_str(unconnected_gradients.value))\n\u001b[0m",
      "\u001b[0;32m~/Library/Python/3.6/lib/python/site-packages/tensorflow/python/eager/backprop.py\u001b[0m in \u001b[0;36m_gradient_function\u001b[0;34m(op_name, attr_tuple, num_inputs, inputs, outputs, out_grads)\u001b[0m\n\u001b[1;32m    129\u001b[0m     \u001b[0;32mreturn\u001b[0m \u001b[0;34m[\u001b[0m\u001b[0;32mNone\u001b[0m\u001b[0;34m]\u001b[0m \u001b[0;34m*\u001b[0m \u001b[0mnum_inputs\u001b[0m\u001b[0;34m\u001b[0m\u001b[0;34m\u001b[0m\u001b[0m\n\u001b[1;32m    130\u001b[0m \u001b[0;34m\u001b[0m\u001b[0m\n\u001b[0;32m--> 131\u001b[0;31m   \u001b[0;32mreturn\u001b[0m \u001b[0mgrad_fn\u001b[0m\u001b[0;34m(\u001b[0m\u001b[0mmock_op\u001b[0m\u001b[0;34m,\u001b[0m \u001b[0;34m*\u001b[0m\u001b[0mout_grads\u001b[0m\u001b[0;34m)\u001b[0m\u001b[0;34m\u001b[0m\u001b[0;34m\u001b[0m\u001b[0m\n\u001b[0m\u001b[1;32m    132\u001b[0m \u001b[0;34m\u001b[0m\u001b[0m\n\u001b[1;32m    133\u001b[0m \u001b[0;34m\u001b[0m\u001b[0m\n",
      "\u001b[0;32m~/Library/Python/3.6/lib/python/site-packages/tensorflow/python/ops/nn_grad.py\u001b[0m in \u001b[0;36m_Conv2DGrad\u001b[0;34m(op, grad)\u001b[0m\n\u001b[1;32m    539\u001b[0m           \u001b[0mpadding\u001b[0m\u001b[0;34m=\u001b[0m\u001b[0mpadding\u001b[0m\u001b[0;34m,\u001b[0m\u001b[0;34m\u001b[0m\u001b[0;34m\u001b[0m\u001b[0m\n\u001b[1;32m    540\u001b[0m           \u001b[0muse_cudnn_on_gpu\u001b[0m\u001b[0;34m=\u001b[0m\u001b[0muse_cudnn_on_gpu\u001b[0m\u001b[0;34m,\u001b[0m\u001b[0;34m\u001b[0m\u001b[0;34m\u001b[0m\u001b[0m\n\u001b[0;32m--> 541\u001b[0;31m           data_format=data_format)\n\u001b[0m\u001b[1;32m    542\u001b[0m   ]\n\u001b[1;32m    543\u001b[0m \u001b[0;34m\u001b[0m\u001b[0m\n",
      "\u001b[0;32m~/Library/Python/3.6/lib/python/site-packages/tensorflow/python/ops/gen_nn_ops.py\u001b[0m in \u001b[0;36mconv2d_backprop_filter\u001b[0;34m(input, filter_sizes, out_backprop, strides, padding, use_cudnn_on_gpu, data_format, dilations, name)\u001b[0m\n\u001b[1;32m   1122\u001b[0m         \u001b[0mfilter_sizes\u001b[0m\u001b[0;34m,\u001b[0m \u001b[0mout_backprop\u001b[0m\u001b[0;34m,\u001b[0m \u001b[0;34m\"strides\"\u001b[0m\u001b[0;34m,\u001b[0m \u001b[0mstrides\u001b[0m\u001b[0;34m,\u001b[0m \u001b[0;34m\"use_cudnn_on_gpu\"\u001b[0m\u001b[0;34m,\u001b[0m\u001b[0;34m\u001b[0m\u001b[0;34m\u001b[0m\u001b[0m\n\u001b[1;32m   1123\u001b[0m         \u001b[0muse_cudnn_on_gpu\u001b[0m\u001b[0;34m,\u001b[0m \u001b[0;34m\"padding\"\u001b[0m\u001b[0;34m,\u001b[0m \u001b[0mpadding\u001b[0m\u001b[0;34m,\u001b[0m \u001b[0;34m\"data_format\"\u001b[0m\u001b[0;34m,\u001b[0m \u001b[0mdata_format\u001b[0m\u001b[0;34m,\u001b[0m\u001b[0;34m\u001b[0m\u001b[0;34m\u001b[0m\u001b[0m\n\u001b[0;32m-> 1124\u001b[0;31m         \"dilations\", dilations)\n\u001b[0m\u001b[1;32m   1125\u001b[0m       \u001b[0;32mreturn\u001b[0m \u001b[0m_result\u001b[0m\u001b[0;34m\u001b[0m\u001b[0;34m\u001b[0m\u001b[0m\n\u001b[1;32m   1126\u001b[0m     \u001b[0;32mexcept\u001b[0m \u001b[0m_core\u001b[0m\u001b[0;34m.\u001b[0m\u001b[0m_FallbackException\u001b[0m\u001b[0;34m:\u001b[0m\u001b[0;34m\u001b[0m\u001b[0;34m\u001b[0m\u001b[0m\n",
      "\u001b[0;31mKeyboardInterrupt\u001b[0m: "
     ]
    }
   ],
   "source": [
    "N_TRAINING_ITERATION = 1500\n",
    "BATCH_SIZE = 200\n",
    "data_gen = data_generator.mnist_generator()\n",
    "\n",
    "optimizer = tf.train.AdamOptimizer()\n",
    "\n",
    "loss_history = []\n",
    "val_loss_history = []\n",
    "val_steps = []\n",
    "\n",
    "for i in range(N_TRAINING_ITERATION):\n",
    "\n",
    "    # Load some data:\n",
    "    batch_images, batch_labels = data_gen.next_train_batch(BATCH_SIZE, NUM_DIGITS)\n",
    "    # Reshape the data:\n",
    "    batch_images = batch_images.reshape(\n",
    "        [BATCH_SIZE, 28, 28*NUM_DIGITS, 1])\n",
    "\n",
    "    with tf.GradientTape() as tape:\n",
    "        logits = model(batch_images)\n",
    "        loss_value = tf.losses.sparse_softmax_cross_entropy(batch_labels, logits)\n",
    "\n",
    "        \n",
    "    trainable_vars = model.trainable_variables\n",
    "\n",
    "\n",
    "    loss_history.append(loss_value.numpy())\n",
    "\n",
    "    # Apply the update to the model:\n",
    "    grads = tape.gradient(loss_value, trainable_vars)\n",
    "    optimizer.apply_gradients(zip(grads, trainable_vars),\n",
    "                             global_step=tf.train.get_or_create_global_step())\n",
    "\n",
    "    if i % 5 == 0:\n",
    "        print(\"Step {}, loss {}\".format(i, loss_history[-1]))"
   ]
  },
  {
   "cell_type": "code",
   "execution_count": 20,
   "metadata": {},
   "outputs": [],
   "source": [
    "val_images, val_labels = data_gen.next_test_batch(512, 1)\n",
    "val_images = val_images.reshape(512, 28, 28 ,1)\n",
    "logits = model(val_images)"
   ]
  },
  {
   "cell_type": "code",
   "execution_count": 22,
   "metadata": {},
   "outputs": [
    {
     "ename": "InternalError",
     "evalue": "Could not find valid device for node.\nNode: {{node SparseSoftmaxCrossEntropyWithLogits}}\nAll kernels registered for op SparseSoftmaxCrossEntropyWithLogits :\n  device='CPU'; T in [DT_FLOAT]; Tlabels in [DT_INT32]\n  device='CPU'; T in [DT_FLOAT]; Tlabels in [DT_INT64]\n  device='CPU'; T in [DT_DOUBLE]; Tlabels in [DT_INT32]\n  device='CPU'; T in [DT_DOUBLE]; Tlabels in [DT_INT64]\n  device='CPU'; T in [DT_HALF]; Tlabels in [DT_INT32]\n  device='CPU'; T in [DT_HALF]; Tlabels in [DT_INT64]\n [Op:SparseSoftmaxCrossEntropyWithLogits] name: xentropy",
     "output_type": "error",
     "traceback": [
      "\u001b[0;31m---------------------------------------------------------------------------\u001b[0m",
      "\u001b[0;31mInternalError\u001b[0m                             Traceback (most recent call last)",
      "\u001b[0;32m<ipython-input-22-622758e250de>\u001b[0m in \u001b[0;36m<module>\u001b[0;34m\u001b[0m\n\u001b[0;32m----> 1\u001b[0;31m \u001b[0mval_loss\u001b[0m \u001b[0;34m=\u001b[0m \u001b[0mtf\u001b[0m\u001b[0;34m.\u001b[0m\u001b[0mlosses\u001b[0m\u001b[0;34m.\u001b[0m\u001b[0msparse_softmax_cross_entropy\u001b[0m\u001b[0;34m(\u001b[0m\u001b[0mval_labels\u001b[0m\u001b[0;34m,\u001b[0m \u001b[0mlogits\u001b[0m\u001b[0;34m)\u001b[0m\u001b[0;34m\u001b[0m\u001b[0;34m\u001b[0m\u001b[0m\n\u001b[0m",
      "\u001b[0;32m~/Library/Python/3.6/lib/python/site-packages/tensorflow/python/ops/losses/losses_impl.py\u001b[0m in \u001b[0;36msparse_softmax_cross_entropy\u001b[0;34m(labels, logits, weights, scope, loss_collection, reduction)\u001b[0m\n\u001b[1;32m    912\u001b[0m     losses = nn.sparse_softmax_cross_entropy_with_logits(labels=labels,\n\u001b[1;32m    913\u001b[0m                                                          \u001b[0mlogits\u001b[0m\u001b[0;34m=\u001b[0m\u001b[0mlogits\u001b[0m\u001b[0;34m,\u001b[0m\u001b[0;34m\u001b[0m\u001b[0;34m\u001b[0m\u001b[0m\n\u001b[0;32m--> 914\u001b[0;31m                                                          name=\"xentropy\")\n\u001b[0m\u001b[1;32m    915\u001b[0m     return compute_weighted_loss(\n\u001b[1;32m    916\u001b[0m         losses, weights, scope, loss_collection, reduction=reduction)\n",
      "\u001b[0;32m~/Library/Python/3.6/lib/python/site-packages/tensorflow/python/ops/nn_ops.py\u001b[0m in \u001b[0;36msparse_softmax_cross_entropy_with_logits\u001b[0;34m(_sentinel, labels, logits, name)\u001b[0m\n\u001b[1;32m   2655\u001b[0m     \u001b[0;32mif\u001b[0m \u001b[0mlogits\u001b[0m\u001b[0;34m.\u001b[0m\u001b[0mget_shape\u001b[0m\u001b[0;34m(\u001b[0m\u001b[0;34m)\u001b[0m\u001b[0;34m.\u001b[0m\u001b[0mndims\u001b[0m \u001b[0;34m==\u001b[0m \u001b[0;36m2\u001b[0m\u001b[0;34m:\u001b[0m\u001b[0;34m\u001b[0m\u001b[0;34m\u001b[0m\u001b[0m\n\u001b[1;32m   2656\u001b[0m       cost, _ = gen_nn_ops.sparse_softmax_cross_entropy_with_logits(\n\u001b[0;32m-> 2657\u001b[0;31m           precise_logits, labels, name=name)\n\u001b[0m\u001b[1;32m   2658\u001b[0m       \u001b[0;32mif\u001b[0m \u001b[0mlogits\u001b[0m\u001b[0;34m.\u001b[0m\u001b[0mdtype\u001b[0m \u001b[0;34m==\u001b[0m \u001b[0mdtypes\u001b[0m\u001b[0;34m.\u001b[0m\u001b[0mfloat16\u001b[0m\u001b[0;34m:\u001b[0m\u001b[0;34m\u001b[0m\u001b[0;34m\u001b[0m\u001b[0m\n\u001b[1;32m   2659\u001b[0m         \u001b[0;32mreturn\u001b[0m \u001b[0mmath_ops\u001b[0m\u001b[0;34m.\u001b[0m\u001b[0mcast\u001b[0m\u001b[0;34m(\u001b[0m\u001b[0mcost\u001b[0m\u001b[0;34m,\u001b[0m \u001b[0mdtypes\u001b[0m\u001b[0;34m.\u001b[0m\u001b[0mfloat16\u001b[0m\u001b[0;34m)\u001b[0m\u001b[0;34m\u001b[0m\u001b[0;34m\u001b[0m\u001b[0m\n",
      "\u001b[0;32m~/Library/Python/3.6/lib/python/site-packages/tensorflow/python/ops/gen_nn_ops.py\u001b[0m in \u001b[0;36msparse_softmax_cross_entropy_with_logits\u001b[0;34m(features, labels, name)\u001b[0m\n\u001b[1;32m   8209\u001b[0m       \u001b[0;32melse\u001b[0m\u001b[0;34m:\u001b[0m\u001b[0;34m\u001b[0m\u001b[0;34m\u001b[0m\u001b[0m\n\u001b[1;32m   8210\u001b[0m         \u001b[0mmessage\u001b[0m \u001b[0;34m=\u001b[0m \u001b[0me\u001b[0m\u001b[0;34m.\u001b[0m\u001b[0mmessage\u001b[0m\u001b[0;34m\u001b[0m\u001b[0;34m\u001b[0m\u001b[0m\n\u001b[0;32m-> 8211\u001b[0;31m       \u001b[0m_six\u001b[0m\u001b[0;34m.\u001b[0m\u001b[0mraise_from\u001b[0m\u001b[0;34m(\u001b[0m\u001b[0m_core\u001b[0m\u001b[0;34m.\u001b[0m\u001b[0m_status_to_exception\u001b[0m\u001b[0;34m(\u001b[0m\u001b[0me\u001b[0m\u001b[0;34m.\u001b[0m\u001b[0mcode\u001b[0m\u001b[0;34m,\u001b[0m \u001b[0mmessage\u001b[0m\u001b[0;34m)\u001b[0m\u001b[0;34m,\u001b[0m \u001b[0;32mNone\u001b[0m\u001b[0;34m)\u001b[0m\u001b[0;34m\u001b[0m\u001b[0;34m\u001b[0m\u001b[0m\n\u001b[0m\u001b[1;32m   8212\u001b[0m   \u001b[0;31m# Add nodes to the TensorFlow graph.\u001b[0m\u001b[0;34m\u001b[0m\u001b[0;34m\u001b[0m\u001b[0;34m\u001b[0m\u001b[0m\n\u001b[1;32m   8213\u001b[0m   _, _, _op = _op_def_lib._apply_op_helper(\n",
      "\u001b[0;32m~/Library/Python/3.6/lib/python/site-packages/six.py\u001b[0m in \u001b[0;36mraise_from\u001b[0;34m(value, from_value)\u001b[0m\n",
      "\u001b[0;31mInternalError\u001b[0m: Could not find valid device for node.\nNode: {{node SparseSoftmaxCrossEntropyWithLogits}}\nAll kernels registered for op SparseSoftmaxCrossEntropyWithLogits :\n  device='CPU'; T in [DT_FLOAT]; Tlabels in [DT_INT32]\n  device='CPU'; T in [DT_FLOAT]; Tlabels in [DT_INT64]\n  device='CPU'; T in [DT_DOUBLE]; Tlabels in [DT_INT32]\n  device='CPU'; T in [DT_DOUBLE]; Tlabels in [DT_INT64]\n  device='CPU'; T in [DT_HALF]; Tlabels in [DT_INT32]\n  device='CPU'; T in [DT_HALF]; Tlabels in [DT_INT64]\n [Op:SparseSoftmaxCrossEntropyWithLogits] name: xentropy"
     ]
    }
   ],
   "source": [
    "val_loss = tf.losses.sparse_softmax_cross_entropy(val_labels, logits)"
   ]
  },
  {
   "cell_type": "code",
   "execution_count": null,
   "metadata": {},
   "outputs": [],
   "source": []
  }
 ],
 "metadata": {
  "kernelspec": {
   "display_name": "Python 3",
   "language": "python",
   "name": "python3"
  },
  "language_info": {
   "codemirror_mode": {
    "name": "ipython",
    "version": 3
   },
   "file_extension": ".py",
   "mimetype": "text/x-python",
   "name": "python",
   "nbconvert_exporter": "python",
   "pygments_lexer": "ipython3",
   "version": "3.6.8"
  }
 },
 "nbformat": 4,
 "nbformat_minor": 2
}
