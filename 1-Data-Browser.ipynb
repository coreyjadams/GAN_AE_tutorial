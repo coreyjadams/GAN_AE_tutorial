{
 "cells": [
  {
   "cell_type": "markdown",
   "metadata": {},
   "source": [
    "## Data Browser\n",
    "\n",
    "This notebook gives a quick look at the data generator used for this example.\n",
    "\n",
    "There is nothing particularly sophisticated, the data loaded is just stitching together mnist images into multi-digit images to make the dataset a little more complex but still accessible.  Here we see how to create the data generator and we'll visualize some of the data."
   ]
  },
  {
   "cell_type": "code",
   "execution_count": 1,
   "metadata": {},
   "outputs": [],
   "source": [
    "# Import the data generator.  \n",
    "# For this to work, you need to be at the top level of the repository:\n",
    "from src.utils import data_generator"
   ]
  },
  {
   "cell_type": "code",
   "execution_count": 2,
   "metadata": {},
   "outputs": [],
   "source": [
    "# Create an instance of the generator:\n",
    "generator = data_generator.mnist_generator()"
   ]
  },
  {
   "cell_type": "code",
   "execution_count": 3,
   "metadata": {},
   "outputs": [],
   "source": [
    "# Calling \"next_train_batch\" will let you get a batch of data:\n",
    "batch_size = 4\n",
    "n_digits   = 2\n",
    "images, labels = generator.next_train_batch(batch_size, n_digits)"
   ]
  },
  {
   "cell_type": "markdown",
   "metadata": {},
   "source": [
    "What are the arguments to next_train_batch?  If you're not familiar with python's help features, they are very useful:"
   ]
  },
  {
   "cell_type": "code",
   "execution_count": 4,
   "metadata": {},
   "outputs": [
    {
     "name": "stdout",
     "output_type": "stream",
     "text": [
      "Help on method next_train_batch in module src.utils.data_generator:\n",
      "\n",
      "next_train_batch(batch_size=10, n_digits=2) method of src.utils.data_generator.mnist_generator instance\n",
      "    Create a new training batch of a specified number of images,\n",
      "    with the specified number of digits per image.\n",
      "    \n",
      "    Parameters\n",
      "    ----------\n",
      "    batch_size : int (default = 10)\n",
      "    n_digits : int (default = 2)\n",
      "    Returns\n",
      "    -------\n",
      "    images : ndarray (shape = [batch_size, 28, n_digits*28]\n",
      "    labels : ndarray (shape = [batch_size] )\n",
      "    \n",
      "    Examples\n",
      "    --------\n",
      "    # Get a batch with 10 images, each a 2 digit number (Default):\n",
      "    images, labels = generator.next_train_batch()\n",
      "    \n",
      "    # Get a batch with 20 images, each a 3 digit number:\n",
      "    images, labels = generator.next_train_batch(20, 3)\n",
      "\n"
     ]
    }
   ],
   "source": [
    "help(generator.next_train_batch)"
   ]
  },
  {
   "cell_type": "markdown",
   "metadata": {},
   "source": [
    "We can use matplotlib to look at the data"
   ]
  },
  {
   "cell_type": "code",
   "execution_count": 5,
   "metadata": {},
   "outputs": [],
   "source": [
    "import numpy\n",
    "from matplotlib import pyplot as plt\n",
    "%matplotlib inline"
   ]
  },
  {
   "cell_type": "code",
   "execution_count": 6,
   "metadata": {},
   "outputs": [
    {
     "data": {
      "text/plain": [
       "<matplotlib.image.AxesImage at 0x133ce1080>"
      ]
     },
     "execution_count": 6,
     "metadata": {},
     "output_type": "execute_result"
    },
    {
     "data": {
      "image/png": "[encoded data removed]",
      "text/plain": [
       "<Figure size 432x288 with 1 Axes>"
      ]
     },
     "metadata": {
      "needs_background": "light"
     },
     "output_type": "display_data"
    }
   ],
   "source": [
    "# matplotlib can't show a 3D tensor as a 2D image natively.  \n",
    "# So reshape it into a 2D image:\n",
    "\n",
    "images_reshape = images.reshape(28*batch_size, 28*n_digits)\n",
    "plt.imshow(images_reshape)"
   ]
  },
  {
   "cell_type": "markdown",
   "metadata": {},
   "source": [
    "Does this image match the labels generated?"
   ]
  },
  {
   "cell_type": "code",
   "execution_count": 7,
   "metadata": {},
   "outputs": [
    {
     "name": "stdout",
     "output_type": "stream",
     "text": [
      "[49 33 87 94]\n"
     ]
    }
   ],
   "source": [
    "print(labels)"
   ]
  },
  {
   "cell_type": "markdown",
   "metadata": {},
   "source": [
    "Looks good!  Go to bigger digits?"
   ]
  },
  {
   "cell_type": "code",
   "execution_count": 8,
   "metadata": {},
   "outputs": [],
   "source": [
    "batch_size = 4\n",
    "n_digits   = 5\n",
    "images, labels = generator.next_train_batch(batch_size, n_digits)"
   ]
  },
  {
   "cell_type": "code",
   "execution_count": 9,
   "metadata": {},
   "outputs": [
    {
     "name": "stdout",
     "output_type": "stream",
     "text": [
      "[81578  6069 62950 88188]\n"
     ]
    },
    {
     "data": {
      "image/png": "[encoded data removed]",
      "text/plain": [
       "<Figure size 432x288 with 1 Axes>"
      ]
     },
     "metadata": {
      "needs_background": "light"
     },
     "output_type": "display_data"
    }
   ],
   "source": [
    "images_reshape = images.reshape(28*batch_size, 28*n_digits)\n",
    "plt.imshow(images_reshape)\n",
    "print(labels)"
   ]
  },
  {
   "cell_type": "markdown",
   "metadata": {},
   "source": [
    "So, there is our dataset.  The next notebooks will get more into the neural network techniques we can use on this set."
   ]
  },
  {
   "cell_type": "code",
   "execution_count": null,
   "metadata": {},
   "outputs": [],
   "source": []
  }
 ],
 "metadata": {
  "kernelspec": {
   "display_name": "Python 3",
   "language": "python",
   "name": "python3"
  },
  "language_info": {
   "codemirror_mode": {
    "name": "ipython",
    "version": 3
   },
   "file_extension": ".py",
   "mimetype": "text/x-python",
   "name": "python",
   "nbconvert_exporter": "python",
   "pygments_lexer": "ipython3",
   "version": "3.6.8"
  }
 },
 "nbformat": 4,
 "nbformat_minor": 2
}
